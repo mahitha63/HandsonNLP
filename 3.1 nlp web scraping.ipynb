{
 "cells": [
  {
   "cell_type": "code",
   "execution_count": null,
   "id": "9c21bd7d-9e9e-4cfe-85da-1dbd4a89a50a",
   "metadata": {},
   "outputs": [],
   "source": [
    "import nltk\n",
    "f = open('tweets1.txt','r')"
   ]
  },
  {
   "cell_type": "code",
   "execution_count": null,
   "id": "8fd3e977-958a-4643-8a90-c9bb035565b2",
   "metadata": {},
   "outputs": [],
   "source": [
    "text = f.read()\n",
    "text1 = text.split()\n",
    "text2 = nltk.Text(text1)"
   ]
  },
  {
   "cell_type": "code",
   "execution_count": null,
   "id": "cceca9ba-619f-4edd-8894-98397516fab6",
   "metadata": {},
   "outputs": [],
   "source": [
    "text2.concordance(\"find\")\n",
    "#concordance = g=forever gives 10 words before and after that"
   ]
  },
  {
   "cell_type": "code",
   "execution_count": null,
   "id": "64df2bbf-8b4a-4776-a3fd-aab894ccbf4e",
   "metadata": {},
   "outputs": [],
   "source": [
    "#for web scrapping\n",
    "from urllib import request\n",
    "\n",
    "url = \"https://gutenberg.org/files/2554/2554-0.txt\"\n",
    "\n",
    "response = request.urlopen(url)\n",
    "\n",
    "raw = response.read().decode('útf8')\n",
    "\n",
    "raw[:75]\n",
    "type(raw)\n",
    "len(raw)\n",
    "\n",
    "from nltk.tokenize import word_tokenze\n",
    "tokens = word_tokenize(raw)\n",
    "type(tokens)\n",
    "len(tokens)\n",
    "\n",
    "\n",
    "\n",
    "#transition FROM AN HTML FILE TO ASCII FORM TO TEXT AND THEN TO VOCAB FORM \n",
    "HTML => ASCII => TEXT =>VOCAB"
   ]
  }
 ],
 "metadata": {
  "kernelspec": {
   "display_name": "Python 3 (ipykernel)",
   "language": "python",
   "name": "python3"
  },
  "language_info": {
   "codemirror_mode": {
    "name": "ipython",
    "version": 3
   },
   "file_extension": ".py",
   "mimetype": "text/x-python",
   "name": "python",
   "nbconvert_exporter": "python",
   "pygments_lexer": "ipython3",
   "version": "3.12.3"
  }
 },
 "nbformat": 4,
 "nbformat_minor": 5
}
