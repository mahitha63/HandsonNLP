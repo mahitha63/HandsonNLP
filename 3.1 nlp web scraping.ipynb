{
 "cells": [
  {
   "cell_type": "code",
   "execution_count": 1,
   "id": "9c21bd7d-9e9e-4cfe-85da-1dbd4a89a50a",
   "metadata": {},
   "outputs": [],
   "source": [
    "import nltk\n",
    "f = open(\"C:\\\\Users\\\\mahit\\\\Downloads\\\\VIT Downloads\\\\nlp_handson\\\\tweets1.txt\",'r')"
   ]
  },
  {
   "cell_type": "code",
   "execution_count": 2,
   "id": "8fd3e977-958a-4643-8a90-c9bb035565b2",
   "metadata": {},
   "outputs": [],
   "source": [
    "text = f.read()\n",
    "text1 = text.split()\n",
    "text2 = nltk.Text(text1)"
   ]
  },
  {
   "cell_type": "code",
   "execution_count": 3,
   "id": "cceca9ba-619f-4edd-8894-98397516fab6",
   "metadata": {},
   "outputs": [
    {
     "name": "stdout",
     "output_type": "stream",
     "text": [
      "Displaying 9 of 9 matches:\n",
      "or joy Main session is over. Time to find people I am sitting waitng for the s\n",
      "beer baroness holds a competition to find the world's saddest music. Tonight, \n",
      "hose people who flies frequently can find the energy to work. XY Doc: \"Secrets\n",
      " PTs State Conference in Roanoke VA. Find out more - url building out some wor\n",
      "orld-class usability expertise. Must find out how. Watching lord of the rings \n",
      "nteresting guy...I like him. I can't find my hellyeahdude coaster? Installed F\n",
      "em off to the printer! scrambling to find a buddy with wheels to pick up a mat\n",
      "er opportunity at a Magnet Hospital? Find what you've been looking for at Rest\n",
      "ll is well! Happy Wednesday 01.23.08 Find out where pro abort Catholic pols go\n"
     ]
    }
   ],
   "source": [
    "text2.concordance(\"find\")\n",
    "#concordance = g=forever gives 10 words before and after that"
   ]
  },
  {
   "cell_type": "code",
   "execution_count": 11,
   "id": "64df2bbf-8b4a-4776-a3fd-aab894ccbf4e",
   "metadata": {},
   "outputs": [
    {
     "data": {
      "text/plain": [
       "'*** START OF THE PROJECT GUTENBERG EBOOK 2554 ***\\n\\n\\n\\n\\nCRIME AND PUNISHMENT\\n'"
      ]
     },
     "execution_count": 11,
     "metadata": {},
     "output_type": "execute_result"
    }
   ],
   "source": [
    "#for web scrapping\n",
    "from urllib import request\n",
    "\n",
    "url = \"https://gutenberg.org/files/2554/2554-0.txt\"\n",
    "\n",
    "response = request.urlopen(url)\n",
    "\n",
    "raw = response.read().decode('utf8')\n",
    "\n",
    "raw[:75]\n"
   ]
  },
  {
   "cell_type": "code",
   "execution_count": 12,
   "id": "e687bd25-9587-45bb-8ea7-b10050ad7b6a",
   "metadata": {},
   "outputs": [
    {
     "data": {
      "text/plain": [
       "str"
      ]
     },
     "execution_count": 12,
     "metadata": {},
     "output_type": "execute_result"
    }
   ],
   "source": [
    "type(raw)"
   ]
  },
  {
   "cell_type": "code",
   "execution_count": 13,
   "id": "33551e3a-7224-4bfe-b5c5-e9d1fc9a2672",
   "metadata": {},
   "outputs": [
    {
     "data": {
      "text/plain": [
       "1135214"
      ]
     },
     "execution_count": 13,
     "metadata": {},
     "output_type": "execute_result"
    }
   ],
   "source": [
    "len(raw)"
   ]
  },
  {
   "cell_type": "code",
   "execution_count": 10,
   "id": "8d76b8fb-fc0c-4da8-9e15-0fb29ecdc9e2",
   "metadata": {},
   "outputs": [],
   "source": [
    "#from nltk.tokenize import word_tokenize\n",
    "#tokens = word_tokenize(raw)\n",
    "#type(tokens)\n",
    "#len(tokens)\n",
    "\n",
    "\n",
    "\n",
    "#transition FROM AN HTML FILE TO ASCII FORM TO TEXT AND THEN TO VOCAB FORM \n",
    "#HTML => ASCII => TEXT =>VOCAB"
   ]
  },
  {
   "cell_type": "code",
   "execution_count": null,
   "id": "92b352dc-e988-4fc0-8413-3406b05c131e",
   "metadata": {},
   "outputs": [],
   "source": []
  }
 ],
 "metadata": {
  "kernelspec": {
   "display_name": "Python 3 (ipykernel)",
   "language": "python",
   "name": "python3"
  },
  "language_info": {
   "codemirror_mode": {
    "name": "ipython",
    "version": 3
   },
   "file_extension": ".py",
   "mimetype": "text/x-python",
   "name": "python",
   "nbconvert_exporter": "python",
   "pygments_lexer": "ipython3",
   "version": "3.12.3"
  }
 },
 "nbformat": 4,
 "nbformat_minor": 5
}
