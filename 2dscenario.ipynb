{
 "cells": [
  {
   "cell_type": "code",
   "execution_count": 1,
   "id": "7efceafd-b452-45b6-860c-4cf2cd40c5e4",
   "metadata": {},
   "outputs": [],
   "source": [
    "import matplotlib.pyplot as plt\n",
    "import matplotlib.patches as patches"
   ]
  },
  {
   "cell_type": "code",
   "execution_count": 65,
   "id": "4fc9b8de-5662-4a10-839a-4bdb528be2e3",
   "metadata": {},
   "outputs": [
    {
     "data": {
      "image/png": "[encoded data removed]",
      "text/plain": [
       "<Figure size 640x480 with 1 Axes>"
      ]
     },
     "metadata": {},
     "output_type": "display_data"
    }
   ],
   "source": [
    "# axis limits\n",
    "fig, ax = plt.subplots()\n",
    "ax.set_xlim(0, 200)\n",
    "ax.set_ylim(0, 150)\n",
    "\n",
    "# for sky\n",
    "ax.add_patch(patches.Rectangle((0, 75), 200, 75, color='midnightblue'))\n",
    "\n",
    "# for half moon\n",
    "ax.add_patch(patches.Circle((170, 130), 7, color='white'))\n",
    "ax.add_patch(patches.Circle((175, 130), 7, color='midnightblue'))\n",
    "\n",
    "# for clouds\n",
    "ax.add_patch(patches.Circle((30, 120), 10, color='white'))\n",
    "ax.add_patch(patches.Circle((40, 120), 12, color='white'))\n",
    "ax.add_patch(patches.Circle((50, 120), 10, color='white'))\n",
    "\n",
    "# for buildings\n",
    "building_colors = ['limegreen', 'teal', 'purple', 'orange', 'red', 'cyan']\n",
    "for i in range(6):\n",
    "    ax.add_patch(patches.Rectangle((10 + i*30, 75), 20, 40, color=building_colors[i]))  # Buildings\n",
    "    # for building windows\n",
    "    for j in range(3):\n",
    "        ax.add_patch(patches.Rectangle((12 + i*30, 100 - j*10), 6, 6, color='lightyellow'))\n",
    "        ax.add_patch(patches.Rectangle((20 + i*30, 100 - j*10), 6, 6, color='lightyellow'))\n",
    "\n",
    "#for river Water\n",
    "ax.add_patch(patches.Rectangle((0, 60), 200, 15, color='skyblue'))\n",
    "\n",
    "# for ship\n",
    "ax.add_patch(patches.Polygon([(90, 70), (110, 70), (105, 65), (95, 65)], color='gray'))  # Ship base\n",
    "ax.add_patch(patches.Rectangle((95, 70), 10, 5, color='darkgray'))  # Ship top\n",
    "ax.add_patch(patches.Rectangle((96, 71), 3, 3, color='lightyellow'))  # Windows\n",
    "\n",
    "# for road\n",
    "ax.add_patch(patches.Rectangle((0, 40), 200, 20, color='dimgray'))\n",
    "\n",
    "# for Road lines ends\n",
    "for i in range(10):\n",
    "    ax.add_patch(patches.Rectangle((10 + i*20, 49), 10, 2, color='white'))\n",
    "\n",
    "# for Street Lamps\n",
    "for i in range(5):\n",
    "    ax.add_patch(patches.Rectangle((25 + i*40, 55), 2, 15, color='black'))  # Lamp post\n",
    "    ax.add_patch(patches.Circle((26 + i*40, 72), 2, color='yellow'))  # Lamp\n",
    "\n",
    "# for bus\n",
    "ax.add_patch(patches.Rectangle((10, 42), 30, 20, color='green'))  # Bus body\n",
    "ax.add_patch(patches.Rectangle((13, 50), 8, 8, color='lightyellow'))  # Bus windows\n",
    "ax.add_patch(patches.Rectangle((23, 50), 8, 8, color='lightyellow'))\n",
    "ax.add_patch(patches.Circle((15, 40), 3, color='black'))  # Bus wheels\n",
    "ax.add_patch(patches.Circle((30, 40), 3, color='black'))\n",
    "\n",
    "#for first car\n",
    "ax.add_patch(patches.Rectangle((73, 43), 20, 9, color='yellow'))  # body\n",
    "ax.add_patch(patches.Circle((82, 50), 7, color='yellow'))\n",
    "ax.add_patch(patches.Circle((75, 40), 3, color='black'))  # wheels\n",
    "ax.add_patch(patches.Circle((89, 40), 3, color='black'))\n",
    "#for 2nd car\n",
    "ax.add_patch(patches.Rectangle((130, 43), 20, 9, color='red'))  # body\n",
    "ax.add_patch(patches.Circle((140, 50), 7, color='red'))\n",
    "ax.add_patch(patches.Circle((133, 40), 3, color='black'))  # wheels\n",
    "ax.add_patch(patches.Circle((146, 40), 3, color='black'))\n",
    "\n",
    "# for airplane\n",
    "#ax.add_patch(patches.Polygon([(150, 140), (160, 138), (155, 135)], color='orangered'))  # body\n",
    "\n",
    "# final scenario view\n",
    "plt.gca().set_aspect('auto', adjustable='box')\n",
    "plt.axis('off')  # Hide the axes\n",
    "plt.show()"
   ]
  },
  {
   "cell_type": "code",
   "execution_count": null,
   "id": "5f7f0928-b91a-435f-87b2-7a0c6d5d6e8a",
   "metadata": {},
   "outputs": [],
   "source": []
  }
 ],
 "metadata": {
  "kernelspec": {
   "display_name": "Python 3 (ipykernel)",
   "language": "python",
   "name": "python3"
  },
  "language_info": {
   "codemirror_mode": {
    "name": "ipython",
    "version": 3
   },
   "file_extension": ".py",
   "mimetype": "text/x-python",
   "name": "python",
   "nbconvert_exporter": "python",
   "pygments_lexer": "ipython3",
   "version": "3.12.3"
  }
 },
 "nbformat": 4,
 "nbformat_minor": 5
}
