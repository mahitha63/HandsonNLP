{
 "cells": [
  {
   "cell_type": "code",
   "execution_count": 1,
   "id": "510c5be7-3bd8-4000-845f-6972874a21e5",
   "metadata": {},
   "outputs": [
    {
     "data": {
      "text/plain": [
       "'happi'"
      ]
     },
     "execution_count": 1,
     "metadata": {},
     "output_type": "execute_result"
    }
   ],
   "source": [
    "from nltk.stem import PorterStemmer\n",
    "stemmerporter = PorterStemmer()\n",
    "stemmerporter.stem('happiness')"
   ]
  },
  {
   "cell_type": "code",
   "execution_count": 2,
   "id": "44b5de3b-be15-4917-8c86-2085c5ee411d",
   "metadata": {},
   "outputs": [
    {
     "data": {
      "text/plain": [
       "'happy'"
      ]
     },
     "execution_count": 2,
     "metadata": {},
     "output_type": "execute_result"
    }
   ],
   "source": [
    "from nltk.stem import LancasterStemmer\n",
    "stemmerporter = LancasterStemmer()\n",
    "stemmerporter.stem('happiness')"
   ]
  },
  {
   "cell_type": "code",
   "execution_count": 3,
   "id": "958154bc-c8ce-436d-9142-2734da26d1b0",
   "metadata": {},
   "outputs": [
    {
     "data": {
      "text/plain": [
       "'s'"
      ]
     },
     "execution_count": 3,
     "metadata": {},
     "output_type": "execute_result"
    }
   ],
   "source": [
    "from nltk.stem import RegexpStemmer\n",
    "stemmerporter = RegexpStemmer('ing')\n",
    "stemmerporter.stem('singing')"
   ]
  },
  {
   "cell_type": "code",
   "execution_count": 4,
   "id": "77da8d42-73ff-4e2f-b2a7-939fbbacf7fc",
   "metadata": {},
   "outputs": [
    {
     "data": {
      "text/plain": [
       "'mang'"
      ]
     },
     "execution_count": 4,
     "metadata": {},
     "output_type": "execute_result"
    }
   ],
   "source": [
    "from nltk.stem import SnowballStemmer\n",
    "SnowballStemmer.languages\n",
    "frenchstemmer = SnowballStemmer('french')\n",
    "frenchstemmer.stem('manges')"
   ]
  },
  {
   "cell_type": "code",
   "execution_count": 5,
   "id": "79951371-7021-483f-bd89-8bcf6f2adcc1",
   "metadata": {},
   "outputs": [],
   "source": [
    "from sklearn.feature_extraction.text import CountVectorizer\n",
    "#from sklearn.feature_extraction.text import TfidfVectorizer"
   ]
  },
  {
   "cell_type": "code",
   "execution_count": 8,
   "id": "93ec776a-645f-4649-ba8a-b8ec6f967966",
   "metadata": {},
   "outputs": [
    {
     "name": "stdout",
     "output_type": "stream",
     "text": [
      "character:0\n",
      "engine:1\n",
      "good:2\n",
      "is:3\n",
      "optical:4\n",
      "recognition:5\n",
      "significant:6\n",
      "tessaract:7\n",
      "[[0 0 1 1 1 0 0 0]]\n",
      "[[1.]]\n",
      "[[0 0 1 1 0 1 0 0]]\n"
     ]
    }
   ],
   "source": [
    "vect = CountVectorizer(binary=True)\n",
    "corpus = [\"Tessaract is good optical character recognition engine\",\"optical character recognition is significant\"]\n",
    "vect.fit(corpus) #it will halve the list of unique words assigned to them\n",
    "\n",
    "#below is the attribute(vocab) of the above instance\n",
    "vocab = vect.vocabulary_ #vocabulary_ built-in \n",
    "for key in sorted(vocab.keys()):\n",
    "          print(\"{}:{}\".format(key, vocab[key]))\n",
    "\n",
    "print(vect.transform([\"This is a good optical illusion. It is a good one\"]).toarray())\n",
    "      #.transform is a function used to transform the document into a vector\n",
    "#this vect only knows the above data but not universal\n",
    "\n",
    "from sklearn.metrics.pairwise import cosine_similarity\n",
    "similarity = cosine_similarity(vect.transform([\"Google Cloud Vision is a good charcater recognition system\"]).toarray(),)\n",
    "print(similarity)\n",
    "print(vect.transform([\"Google cloud vision is a good charcater recognition system\"]).toarray())\n",
    "#0's and 1's are the position of index of the words as presence or absence and doesnot depend on grammar or pos"
   ]
  },
  {
   "cell_type": "code",
   "execution_count": null,
   "id": "694d7d65-e051-42a7-a4e2-2ad2076ce16d",
   "metadata": {},
   "outputs": [],
   "source": [
    "\""
   ]
  }
 ],
 "metadata": {
  "kernelspec": {
   "display_name": "Python 3 (ipykernel)",
   "language": "python",
   "name": "python3"
  },
  "language_info": {
   "codemirror_mode": {
    "name": "ipython",
    "version": 3
   },
   "file_extension": ".py",
   "mimetype": "text/x-python",
   "name": "python",
   "nbconvert_exporter": "python",
   "pygments_lexer": "ipython3",
   "version": "3.12.3"
  }
 },
 "nbformat": 4,
 "nbformat_minor": 5
}
